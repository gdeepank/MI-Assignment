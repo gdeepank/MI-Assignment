{
 "cells": [
  {
   "cell_type": "code",
   "execution_count": 1,
   "metadata": {},
   "outputs": [],
   "source": [
    "import numpy as np\n",
    "import pandas as pd\n",
    "from sklearn.model_selection import train_test_split\n",
    "import matplotlib.pyplot as plt\n",
    "\n",
    "%matplotlib inline\n",
    "plt.rcParams['figure.figsize'] = (5.0, 4.0)"
   ]
  },
  {
   "cell_type": "code",
   "execution_count": 2,
   "metadata": {},
   "outputs": [],
   "source": [
    "df = pd.read_csv(\"cleanedLBW.csv\")"
   ]
  },
  {
   "cell_type": "code",
   "execution_count": 3,
   "metadata": {},
   "outputs": [],
   "source": [
    "df.drop(['Unnamed: 0'], axis = 1, inplace=True)"
   ]
  },
  {
   "cell_type": "code",
   "execution_count": 4,
   "metadata": {},
   "outputs": [],
   "source": [
    "X = df.iloc[:,:-1]\n",
    "y = df.Result\n",
    "train_x, test_x, train_y, test_y = train_test_split(X, y, test_size=0.50, random_state=42)"
   ]
  },
  {
   "cell_type": "code",
   "execution_count": 5,
   "metadata": {},
   "outputs": [
    {
     "data": {
      "text/plain": [
       "Index(['Community', 'Age', 'Weight', 'Delivery phase', 'HB', 'IFA', 'BP',\n",
       "       'Education', 'Residence', 'Result'],\n",
       "      dtype='object')"
      ]
     },
     "execution_count": 5,
     "metadata": {},
     "output_type": "execute_result"
    }
   ],
   "source": [
    "df.columns"
   ]
  },
  {
   "cell_type": "code",
   "execution_count": 6,
   "metadata": {},
   "outputs": [
    {
     "name": "stdout",
     "output_type": "stream",
     "text": [
      "(48, 9)\n",
      "(48,)\n",
      "(48, 9)\n",
      "(48,)\n"
     ]
    }
   ],
   "source": [
    "print(train_x.shape)\n",
    "print(train_y.shape)\n",
    "print(test_x.shape)\n",
    "print(test_y.shape)"
   ]
  },
  {
   "cell_type": "code",
   "execution_count": 7,
   "metadata": {},
   "outputs": [],
   "source": [
    "trainX = np.array(train_x.T)\n",
    "testX = np.array(test_x.T)\n",
    "trainY = np.array(train_y.values.reshape((1, train_y.shape[0])))\n",
    "testY = np.array(test_y.values.reshape((1, test_y.shape[0])))"
   ]
  },
  {
   "cell_type": "code",
   "execution_count": 8,
   "metadata": {},
   "outputs": [
    {
     "name": "stdout",
     "output_type": "stream",
     "text": [
      "(9, 48)\n",
      "(1, 48)\n",
      "(9, 48)\n",
      "(1, 48)\n"
     ]
    }
   ],
   "source": [
    "print(trainX.shape)\n",
    "print(trainY.shape)\n",
    "print(testX.shape)\n",
    "print(testY.shape)"
   ]
  },
  {
   "cell_type": "code",
   "execution_count": 9,
   "metadata": {},
   "outputs": [],
   "source": [
    "n_x = trainX.shape[0]\n",
    "n_h = 17\n",
    "n_y = 1\n",
    "layers_dims = (n_x, n_h, n_y)"
   ]
  },
  {
   "cell_type": "code",
   "execution_count": 10,
   "metadata": {},
   "outputs": [],
   "source": [
    "def sigmoid(Z):\n",
    "    \"\"\"\n",
    "    Implements the sigmoid activation function.\n",
    "    \"\"\"\n",
    "    A = 1 / (1 + np.exp(-Z))\n",
    "    \n",
    "    return A"
   ]
  },
  {
   "cell_type": "code",
   "execution_count": 11,
   "metadata": {},
   "outputs": [],
   "source": [
    "def initialize_parameters(n_x, n_h, n_y):\n",
    "    \"\"\"\n",
    "    Argument:\n",
    "    n_x -- size of the input layer\n",
    "    n_h -- size of the hidden layer\n",
    "    n_y -- size of the output layer\n",
    "    \n",
    "    Returns:\n",
    "    parameters -- python dictionary containing your parameters:\n",
    "                    W1 -- weight matrix of shape (n_h, n_x)\n",
    "                    b1 -- bias vector of shape (n_h, 1)\n",
    "                    W2 -- weight matrix of shape (n_y, n_h)\n",
    "                    b2 -- bias vector of shape (n_y, 1)\n",
    "    \"\"\"\n",
    "    np.random.seed(1)\n",
    "    \n",
    "    W1 = np.random.randn(n_h, n_x) * 0.01\n",
    "    b1 = np.zeros(shape=(n_h, 1))\n",
    "    W2 = np.random.randn(n_y, n_h) * 0.01\n",
    "    b2 = np.zeros(shape=(n_y, 1))\n",
    "    \n",
    "    assert(W1.shape == (n_h, n_x))\n",
    "    assert(b1.shape == (n_h, 1))\n",
    "    assert(W2.shape == (n_y, n_h))\n",
    "    assert(b2.shape == (n_y, 1))\n",
    "    \n",
    "    parameters = {\"W1\": W1,\n",
    "                  \"b1\": b1,\n",
    "                  \"W2\": W2,\n",
    "                  \"b2\": b2}\n",
    "    \n",
    "    return parameters"
   ]
  },
  {
   "cell_type": "code",
   "execution_count": 12,
   "metadata": {},
   "outputs": [],
   "source": [
    "def forward_propagation(X, parameters):\n",
    "    \"\"\"\n",
    "    Implement the neural network's forward propagation.\n",
    "    \"\"\"\n",
    "    W1 = parameters[\"W1\"]\n",
    "    b1 = parameters[\"b1\"]\n",
    "    W2 = parameters[\"W2\"]\n",
    "    b2 = parameters[\"b2\"]\n",
    "    \n",
    "    Z1 = np.dot(W1, X) + b1\n",
    "    A1 = sigmoid(Z1)\n",
    "    Z2 = np.dot(W2, A1) + b2\n",
    "    A2 = sigmoid(Z2)\n",
    "    \n",
    "    parameters[\"Z1\"] = Z1\n",
    "    parameters[\"A1\"] = A1\n",
    "    parameters[\"Z2\"] = Z2\n",
    "    parameters[\"A2\"] = A2\n",
    "    \n",
    "    return parameters"
   ]
  },
  {
   "cell_type": "code",
   "execution_count": 13,
   "metadata": {},
   "outputs": [],
   "source": [
    "def cost(Y, parameters):\n",
    "    \"\"\"\n",
    "    Implement the cross-entropy cost function.\n",
    "    \"\"\"\n",
    "    m = Y.shape[1]                           # number of examples\n",
    "    AL = parameters[\"A2\"]\n",
    "    \n",
    "    cost = (-1 / m) * np.sum(np.multiply(Y, np.log(AL)) + np.multiply(1 - Y, np.log(1 - AL)))\n",
    "    \n",
    "    cost = np.squeeze(cost)\n",
    "    assert(cost.shape == ())\n",
    "    \n",
    "    return cost"
   ]
  },
  {
   "cell_type": "code",
   "execution_count": 14,
   "metadata": {},
   "outputs": [],
   "source": [
    "def back_propagation(X, Y, parameters):\n",
    "    \"\"\"\n",
    "    Implement the backward propagation for the neural network\n",
    "    \"\"\"\n",
    "    A1 = parameters[\"A1\"]\n",
    "    A2 = parameters[\"A2\"]\n",
    "    Z1 = parameters[\"Z1\"]\n",
    "    W2 = parameters[\"W2\"]\n",
    "    m = X.shape[1]                           # number of examples\n",
    "    \n",
    "    dZ2 = A2 - Y\n",
    "    dW2 = np.dot(dZ2, A1.T) / m\n",
    "    db2 = (np.sum(dZ2, axis=1, keepdims=True)) / m\n",
    "    dZ1 = np.dot(W2.T, dZ2) * (A1 * (1-A1))\n",
    "    dW1 = np.dot(dZ1, X.T) / m\n",
    "    db1 = (np.sum(dZ1, axis=1, keepdims=True)) / m\n",
    "    \n",
    "    parameters[\"dZ2\"] = dZ2\n",
    "    parameters[\"dW2\"] = dW2\n",
    "    parameters[\"db2\"] = db2\n",
    "    parameters[\"dZ1\"] = dZ1\n",
    "    parameters[\"dW1\"] = dW1\n",
    "    parameters[\"db1\"] = db1\n",
    "    \n",
    "    return parameters"
   ]
  },
  {
   "cell_type": "code",
   "execution_count": 15,
   "metadata": {},
   "outputs": [],
   "source": [
    "def update_parameters(parameters, learning_rate):\n",
    "    \"\"\"\n",
    "    Update parameters using gradient descent.\n",
    "    \"\"\"\n",
    "    for l in range(2):\n",
    "        parameters[\"W\" + str(l + 1)] = parameters[\"W\" + str(l + 1)] - learning_rate * parameters[\"dW\" + str(l + 1)]\n",
    "        parameters[\"b\" + str(l + 1)] = parameters[\"b\" + str(l + 1)] - learning_rate * parameters[\"db\" + str(l + 1)]\n",
    "        \n",
    "    return parameters"
   ]
  },
  {
   "cell_type": "code",
   "execution_count": 16,
   "metadata": {},
   "outputs": [],
   "source": [
    "def two_layer_model(X, Y, layers_dims, learning_rate=0.001, num_iterations=100000, print_cost=False):\n",
    "    \"\"\"\n",
    "    Implements a two-layer neural network: LINEAR->SIGMOID->LINEAR->SIGMOID.\n",
    "    \"\"\"\n",
    "    np.random.seed(1)\n",
    "    costs = []                              # to keep track of the cost\n",
    "    m = X.shape[1]                           # number of examples\n",
    "    (n_x, n_h, n_y) = layers_dims\n",
    "    \n",
    "    parameters = initialize_parameters(n_x, n_h, n_y)\n",
    "    \n",
    "    for i in range(0, num_iterations):\n",
    "        parameters = forward_propagation(X, parameters)\n",
    "        costt = cost(Y, parameters)\n",
    "        parameters = back_propagation(X, Y, parameters)\n",
    "        parameters = update_parameters(parameters, learning_rate)\n",
    "        if print_cost and i % 20000 == 0:\n",
    "            print(\"Cost after iteration {}: {}\".format(i, np.squeeze(costt)))\n",
    "        if print_cost and i % 20000 == 0:\n",
    "            costs.append(costt)\n",
    "        \n",
    "    plt.plot(np.squeeze(costs))\n",
    "    plt.ylabel('cost')\n",
    "    plt.xlabel('iterations (per 20 thousand)')\n",
    "    plt.title(\"Learning rate =\" + str(learning_rate))\n",
    "    plt.show()\n",
    "    \n",
    "    return parameters"
   ]
  },
  {
   "cell_type": "code",
   "execution_count": 17,
   "metadata": {},
   "outputs": [
    {
     "name": "stdout",
     "output_type": "stream",
     "text": [
      "Cost after iteration 0: 0.6929000220514328\n",
      "Cost after iteration 20000: 0.450781975198158\n",
      "Cost after iteration 40000: 0.3585846178957397\n",
      "Cost after iteration 60000: 0.3056002334920368\n",
      "Cost after iteration 80000: 0.27621164240737195\n",
      "Cost after iteration 100000: 0.25922647845552027\n",
      "Cost after iteration 120000: 0.2472891440255012\n",
      "Cost after iteration 140000: 0.23771190299882622\n",
      "Cost after iteration 160000: 0.22946783525904146\n",
      "Cost after iteration 180000: 0.2221405682859725\n"
     ]
    },
    {
     "data": {
      "image/png": "[encoded data removed]",
      "text/plain": [
       "<Figure size 360x288 with 1 Axes>"
      ]
     },
     "metadata": {
      "needs_background": "light"
     },
     "output_type": "display_data"
    }
   ],
   "source": [
    "parameters = two_layer_model(trainX, trainY, layers_dims = layers_dims, num_iterations = 200000, print_cost=True)"
   ]
  },
  {
   "cell_type": "code",
   "execution_count": 18,
   "metadata": {},
   "outputs": [],
   "source": [
    "def predict(X, y, parameters):\n",
    "    \"\"\"\n",
    "    Predicts the results of a  2-layer neural network.\n",
    "    \"\"\"\n",
    "    m = X.shape[1]\n",
    "    p = np.zeros((1,m))\n",
    "    \n",
    "    parameters = forward_propagation(X, parameters)\n",
    "    probas = parameters[\"A2\"]\n",
    "    for i in range(0, probas.shape[1]):\n",
    "        if probas[0,i] > 0.5:\n",
    "            p[0,i] = 1\n",
    "        else:\n",
    "            p[0,i] = 0\n",
    "    \n",
    "    print(\"Accuracy: \"  + str(np.sum((p == y)/m)))    \n",
    "    \n",
    "    return p"
   ]
  },
  {
   "cell_type": "code",
   "execution_count": 19,
   "metadata": {},
   "outputs": [
    {
     "name": "stdout",
     "output_type": "stream",
     "text": [
      "Accuracy: 0.8958333333333333\n"
     ]
    }
   ],
   "source": [
    "pred_train = predict(trainX, trainY, parameters)"
   ]
  },
  {
   "cell_type": "code",
   "execution_count": 20,
   "metadata": {},
   "outputs": [
    {
     "name": "stdout",
     "output_type": "stream",
     "text": [
      "Accuracy: 0.8749999999999999\n"
     ]
    }
   ],
   "source": [
    "pred_test = predict(testX, testY, parameters)"
   ]
  },
  {
   "cell_type": "code",
   "execution_count": 21,
   "metadata": {},
   "outputs": [],
   "source": [
    "def CM(y_test,y_test_obs):\n",
    "    '''\n",
    "    Prints the confusion matrix.\n",
    "    '''\n",
    "    for i in range(len(y_test_obs)):\n",
    "        if(y_test_obs[i]>0.6):\n",
    "            y_test_obs[i]=1\n",
    "        else:\n",
    "            y_test_obs[i]=0\n",
    "\n",
    "    cm=[[0,0],[0,0]]\n",
    "    fp=0\n",
    "    fn=0\n",
    "    tp=0\n",
    "    tn=0\n",
    "\n",
    "    for i in range(len(y_test)):\n",
    "        if(y_test[i]==1 and y_test_obs[i]==1):\n",
    "            tp=tp+1\n",
    "        if(y_test[i]==0 and y_test_obs[i]==0):\n",
    "            tn=tn+1\n",
    "        if(y_test[i]==1 and y_test_obs[i]==0):\n",
    "            fp=fp+1\n",
    "        if(y_test[i]==0 and y_test_obs[i]==1):\n",
    "            fn=fn+1\n",
    "    \n",
    "    cm[0][0]=tn\n",
    "    cm[0][1]=fp\n",
    "    cm[1][0]=fn\n",
    "    cm[1][1]=tp\n",
    "    p= tp/(tp+fp)\n",
    "    r=tp/(tp+fn)\n",
    "    f1=(2*p*r)/(p+r)\n",
    "    \n",
    "    print(\"Confusion Matrix : \")\n",
    "    print(cm)\n",
    "    print(\"\\n\")\n",
    "    print(f\"Precision : {p}\")\n",
    "    print(f\"Recall : {r}\")\n",
    "    print(f\"F1 SCORE : {f1}\")"
   ]
  },
  {
   "cell_type": "code",
   "execution_count": 22,
   "metadata": {},
   "outputs": [
    {
     "name": "stdout",
     "output_type": "stream",
     "text": [
      "Confusion Matrix : \n",
      "[[8, 3], [3, 34]]\n",
      "\n",
      "\n",
      "Precision : 0.918918918918919\n",
      "Recall : 0.918918918918919\n",
      "F1 SCORE : 0.918918918918919\n"
     ]
    }
   ],
   "source": [
    "CM(testY[0], pred_test[0])"
   ]
  },
  {
   "cell_type": "code",
   "execution_count": null,
   "metadata": {},
   "outputs": [],
   "source": []
  }
 ],
 "metadata": {
  "kernelspec": {
   "display_name": "Python 3",
   "language": "python",
   "name": "python3"
  },
  "language_info": {
   "codemirror_mode": {
    "name": "ipython",
    "version": 3
   },
   "file_extension": ".py",
   "mimetype": "text/x-python",
   "name": "python",
   "nbconvert_exporter": "python",
   "pygments_lexer": "ipython3",
   "version": "3.7.6"
  }
 },
 "nbformat": 4,
 "nbformat_minor": 4
}
